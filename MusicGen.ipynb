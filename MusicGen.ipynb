{
  "cells": [
    {
      "cell_type": "code",
      "execution_count": null,
      "metadata": {
        "_cell_guid": "b1076dfc-b9ad-4769-8c92-a6c4dae69d19",
        "_kg_hide-input": false,
        "_kg_hide-output": true,
        "_uuid": "8f2839f25d086af736a60e9eeb907d3b93b6e0e5",
        "execution": {
          "iopub.execute_input": "2024-08-06T13:20:09.182454Z",
          "iopub.status.busy": "2024-08-06T13:20:09.180994Z",
          "iopub.status.idle": "2024-08-06T13:20:32.830435Z",
          "shell.execute_reply": "2024-08-06T13:20:32.829159Z",
          "shell.execute_reply.started": "2024-08-06T13:20:09.182385Z"
        },
        "id": "SlWvocbDAqtR",
        "trusted": true
      },
      "outputs": [],
      "source": [
        "!pip install music21 lightning midi2audio\n",
        "!apt-get update\n",
        "!apt-get install -y fluidsynth musescore3"
      ]
    },
    {
      "cell_type": "markdown",
      "metadata": {},
      "source": [
        "# Imports"
      ]
    },
    {
      "cell_type": "code",
      "execution_count": null,
      "metadata": {
        "execution": {
          "iopub.execute_input": "2024-08-06T13:20:50.099228Z",
          "iopub.status.busy": "2024-08-06T13:20:50.098738Z",
          "iopub.status.idle": "2024-08-06T13:21:14.487801Z",
          "shell.execute_reply": "2024-08-06T13:21:14.486748Z",
          "shell.execute_reply.started": "2024-08-06T13:20:50.099187Z"
        },
        "id": "vWg2qS1iAqtS",
        "trusted": true
      },
      "outputs": [],
      "source": [
        "import os\n",
        "import glob\n",
        "\n",
        "import numpy as np\n",
        "\n",
        "import torch\n",
        "import torch.nn as nn\n",
        "import torch.nn.functional as F\n",
        "from torch.utils.data import Dataset,DataLoader,random_split\n",
        "from torch.utils.tensorboard import SummaryWriter\n",
        "import lightning as L\n",
        "from lightning.pytorch.callbacks import EarlyStopping\n",
        "from lightning.pytorch.utilities.model_summary import ModelSummary\n",
        "\n",
        "from music21 import corpus,converter,instrument,note,stream,chord,duration\n",
        "from midi2audio import FluidSynth\n",
        "\n",
        "from collections import Counter\n",
        "from IPython.display import Image,Audio\n",
        "import matplotlib.pyplot as plt\n",
        "from tqdm.notebook import tqdm\n",
        "import time\n",
        "from datetime import timedelta\n",
        "import pickle"
      ]
    },
    {
      "cell_type": "markdown",
      "metadata": {},
      "source": [
        "# Constants and data preperation"
      ]
    },
    {
      "cell_type": "code",
      "execution_count": null,
      "metadata": {
        "execution": {
          "iopub.execute_input": "2024-08-06T13:21:14.490998Z",
          "iopub.status.busy": "2024-08-06T13:21:14.489898Z",
          "iopub.status.idle": "2024-08-06T13:21:14.517291Z",
          "shell.execute_reply": "2024-08-06T13:21:14.516168Z",
          "shell.execute_reply.started": "2024-08-06T13:21:14.490957Z"
        },
        "id": "1_qwjVkXAqtS",
        "trusted": true
      },
      "outputs": [],
      "source": [
        "files = glob.glob(\"/kaggle/input/classical-music-midi/chopin/*.mid\")\n",
        "device = \"cuda\" if torch.cuda.is_available() else \"cpu\""
      ]
    },
    {
      "cell_type": "code",
      "execution_count": null,
      "metadata": {
        "execution": {
          "iopub.execute_input": "2024-08-06T13:22:10.277288Z",
          "iopub.status.busy": "2024-08-06T13:22:10.276827Z",
          "iopub.status.idle": "2024-08-06T13:22:31.191439Z",
          "shell.execute_reply": "2024-08-06T13:22:31.190073Z",
          "shell.execute_reply.started": "2024-08-06T13:22:10.27725Z"
        },
        "id": "2Qdpg83QAqtS",
        "trusted": true
      },
      "outputs": [],
      "source": [
        "#I did the except block in a different notebook and it is loaded in the try block \n",
        "try:\n",
        "    with open(\"/kaggle/input/midi-lists/chopin_list.pkl\",\"rb\") as f:\n",
        "        all_mids = pickle.load(f)\n",
        "except:\n",
        "    all_mids=[]\n",
        "    for f in tqdm(files):\n",
        "        all_mids.append(converter.parse(f).chordify())\n",
        "    len(all_mids)"
      ]
    },
    {
      "cell_type": "code",
      "execution_count": null,
      "metadata": {
        "execution": {
          "iopub.execute_input": "2024-08-06T13:22:41.14357Z",
          "iopub.status.busy": "2024-08-06T13:22:41.143012Z",
          "iopub.status.idle": "2024-08-06T13:22:41.176576Z",
          "shell.execute_reply": "2024-08-06T13:22:41.175242Z",
          "shell.execute_reply.started": "2024-08-06T13:22:41.143532Z"
        },
        "id": "gNIo0SJbAqtT",
        "trusted": true
      },
      "outputs": [],
      "source": [
        "def extract_notes(files):\n",
        "    notes = []\n",
        "    durations = []\n",
        "    for file in tqdm(files):\n",
        "        score = file.transpose(0)\n",
        "        notes.extend([\"START\"] * 32)\n",
        "        durations.extend([0]*32)\n",
        "\n",
        "        for element in score.flat:\n",
        "            if isinstance(element,note.Note):\n",
        "                if element.isRest:\n",
        "                    notes.append(str(element.name))\n",
        "                    durations.append(element.duration.quarterLength)\n",
        "                else:\n",
        "                    notes.append(str(element.nameWithOctave))\n",
        "                    durations.append(element.duration.quarterLength)\n",
        "            if isinstance(element,chord.Chord):\n",
        "                notes.append('.'.join(n.nameWithOctave for n in element.pitches))\n",
        "                durations.append(element.duration.quarterLength)\n",
        "    return notes,durations"
      ]
    },
    {
      "cell_type": "code",
      "execution_count": null,
      "metadata": {
        "execution": {
          "iopub.execute_input": "2024-08-06T13:22:41.179094Z",
          "iopub.status.busy": "2024-08-06T13:22:41.17857Z",
          "iopub.status.idle": "2024-08-06T13:24:02.888589Z",
          "shell.execute_reply": "2024-08-06T13:24:02.887335Z",
          "shell.execute_reply.started": "2024-08-06T13:22:41.179039Z"
        },
        "id": "lXT48Z_0AqtT",
        "trusted": true
      },
      "outputs": [],
      "source": [
        "notes,durations = extract_notes(all_mids)\n",
        "print(\"total notes in corpus: \",len(notes))"
      ]
    },
    {
      "cell_type": "code",
      "execution_count": null,
      "metadata": {
        "execution": {
          "iopub.execute_input": "2024-08-06T13:24:02.890814Z",
          "iopub.status.busy": "2024-08-06T13:24:02.890476Z",
          "iopub.status.idle": "2024-08-06T13:24:02.900384Z",
          "shell.execute_reply": "2024-08-06T13:24:02.899142Z",
          "shell.execute_reply.started": "2024-08-06T13:24:02.890786Z"
        },
        "id": "xoUyvfgvAqtT",
        "trusted": true
      },
      "outputs": [],
      "source": [
        "notes[30:40],durations[30:40]"
      ]
    },
    {
      "cell_type": "code",
      "execution_count": null,
      "metadata": {
        "execution": {
          "iopub.execute_input": "2024-08-06T13:24:09.641351Z",
          "iopub.status.busy": "2024-08-06T13:24:09.640892Z",
          "iopub.status.idle": "2024-08-06T13:24:09.751842Z",
          "shell.execute_reply": "2024-08-06T13:24:09.750304Z",
          "shell.execute_reply.started": "2024-08-06T13:24:09.641316Z"
        },
        "id": "DxX8xHsQAqtU",
        "trusted": true
      },
      "outputs": [],
      "source": [
        "get_distinct = lambda e : (sorted(set(e)),len(set(e)))\n",
        "notes_names, n_notes = get_distinct(notes)\n",
        "duration_names , n_durations = get_distinct(durations)"
      ]
    },
    {
      "cell_type": "code",
      "execution_count": null,
      "metadata": {
        "execution": {
          "iopub.execute_input": "2024-08-06T13:24:10.482151Z",
          "iopub.status.busy": "2024-08-06T13:24:10.481668Z",
          "iopub.status.idle": "2024-08-06T13:24:10.491037Z",
          "shell.execute_reply": "2024-08-06T13:24:10.489356Z",
          "shell.execute_reply.started": "2024-08-06T13:24:10.482113Z"
        },
        "id": "8-m4ku7oAqtV",
        "trusted": true
      },
      "outputs": [],
      "source": [
        "n_notes,n_durations"
      ]
    },
    {
      "cell_type": "code",
      "execution_count": null,
      "metadata": {
        "execution": {
          "iopub.execute_input": "2024-08-06T13:24:11.608428Z",
          "iopub.status.busy": "2024-08-06T13:24:11.607949Z",
          "iopub.status.idle": "2024-08-06T13:24:11.620117Z",
          "shell.execute_reply": "2024-08-06T13:24:11.618356Z",
          "shell.execute_reply.started": "2024-08-06T13:24:11.608392Z"
        },
        "id": "TTMHmYM_AqtV",
        "trusted": true
      },
      "outputs": [],
      "source": [
        "def create_lookup(data):\n",
        "    d2i = dict((e,i) for i,e in enumerate(data))\n",
        "    i2d = dict((i,e) for i,e in enumerate(data))\n",
        "    return d2i,i2d\n",
        "\n",
        "note_to_int , int_to_note = create_lookup(notes_names)\n",
        "duration_to_int,int_to_duration = create_lookup(duration_names)"
      ]
    },
    {
      "cell_type": "code",
      "execution_count": null,
      "metadata": {
        "execution": {
          "iopub.execute_input": "2024-08-06T13:24:12.958326Z",
          "iopub.status.busy": "2024-08-06T13:24:12.957809Z",
          "iopub.status.idle": "2024-08-06T13:24:12.967482Z",
          "shell.execute_reply": "2024-08-06T13:24:12.966148Z",
          "shell.execute_reply.started": "2024-08-06T13:24:12.958284Z"
        },
        "id": "VlFoV04zAqtV",
        "trusted": true
      },
      "outputs": [],
      "source": [
        "save = {\"n2i\":note_to_int,\"i2n\":int_to_note,\"d2i\":duration_to_int,\"i2d\":int_to_duration}\n",
        "with open(\"lookups.pkl\",'wb') as f:\n",
        "    pickle.dump(save,f)"
      ]
    },
    {
      "cell_type": "code",
      "execution_count": null,
      "metadata": {
        "execution": {
          "iopub.execute_input": "2024-08-06T13:24:14.512851Z",
          "iopub.status.busy": "2024-08-06T13:24:14.51245Z",
          "iopub.status.idle": "2024-08-06T13:24:14.52143Z",
          "shell.execute_reply": "2024-08-06T13:24:14.520018Z",
          "shell.execute_reply.started": "2024-08-06T13:24:14.512821Z"
        },
        "id": "ZejZpJsaAqtW",
        "trusted": true
      },
      "outputs": [],
      "source": [
        "print('\\nnote_to_int')\n",
        "for i, item in enumerate(note_to_int.items()):\n",
        "    if i < 10:\n",
        "        print(item)"
      ]
    },
    {
      "cell_type": "code",
      "execution_count": null,
      "metadata": {
        "execution": {
          "iopub.execute_input": "2024-08-06T13:24:15.571834Z",
          "iopub.status.busy": "2024-08-06T13:24:15.57144Z",
          "iopub.status.idle": "2024-08-06T13:24:15.578168Z",
          "shell.execute_reply": "2024-08-06T13:24:15.576944Z",
          "shell.execute_reply.started": "2024-08-06T13:24:15.571805Z"
        },
        "id": "3Iqmt9rEAqtW",
        "trusted": true
      },
      "outputs": [],
      "source": [
        "print('\\nduration_to_int')\n",
        "print(duration_to_int)"
      ]
    },
    {
      "cell_type": "code",
      "execution_count": null,
      "metadata": {
        "execution": {
          "iopub.execute_input": "2024-08-06T13:24:16.463113Z",
          "iopub.status.busy": "2024-08-06T13:24:16.462613Z",
          "iopub.status.idle": "2024-08-06T13:24:16.476916Z",
          "shell.execute_reply": "2024-08-06T13:24:16.475481Z",
          "shell.execute_reply.started": "2024-08-06T13:24:16.463045Z"
        },
        "id": "Ck12mLzMAqtW",
        "trusted": true
      },
      "outputs": [],
      "source": [
        "class MusicDs(Dataset):\n",
        "    def __init__(self,notes,durations,n2i,d2i,seq_len = 32):\n",
        "        self.notes = notes\n",
        "        self.durations = durations\n",
        "        self.n2i = n2i\n",
        "        self.d2i = d2i\n",
        "        self.seq_len = seq_len\n",
        "        self.L_n = len(n2i)\n",
        "        self.L_d = len(d2i)\n",
        "\n",
        "\n",
        "    def __len__(self):\n",
        "        return len(self.notes) - (self.seq_len)\n",
        "\n",
        "    def __getitem__(self,i):\n",
        "        notes_in = self.notes[i:i+self.seq_len]\n",
        "        notes_out = self.n2i[self.notes[i+self.seq_len]]\n",
        "\n",
        "        duration_in = self.durations[i:i+self.seq_len]\n",
        "        duration_out = self.d2i[self.durations[i+self.seq_len]]\n",
        "\n",
        "        xn = torch.tensor([self.n2i[k] for k in notes_in]).int()\n",
        "        xd = torch.tensor([self.d2i[k] for k in duration_in]).int()\n",
        "\n",
        "        yn = torch.tensor([notes_out]).long()\n",
        "        yd = torch.tensor([duration_out]).long()\n",
        "\n",
        "        yn = F.one_hot(yn,num_classes = self.L_n).squeeze()\n",
        "        yd = F.one_hot(yd,num_classes = self.L_d).squeeze()\n",
        "\n",
        "        return xn,xd,yn,yd\n",
        "#         return xn.to(device),xd.to(device),yn.to(device),yd.to(device)"
      ]
    },
    {
      "cell_type": "code",
      "execution_count": null,
      "metadata": {
        "execution": {
          "iopub.execute_input": "2024-08-06T13:24:17.337203Z",
          "iopub.status.busy": "2024-08-06T13:24:17.336745Z",
          "iopub.status.idle": "2024-08-06T13:24:17.343327Z",
          "shell.execute_reply": "2024-08-06T13:24:17.341901Z",
          "shell.execute_reply.started": "2024-08-06T13:24:17.337167Z"
        },
        "id": "NmfYhVVQAqtW",
        "trusted": true
      },
      "outputs": [],
      "source": [
        "ds = MusicDs(notes,durations,note_to_int,duration_to_int)"
      ]
    },
    {
      "cell_type": "code",
      "execution_count": null,
      "metadata": {
        "execution": {
          "iopub.execute_input": "2024-08-06T13:24:18.552811Z",
          "iopub.status.busy": "2024-08-06T13:24:18.552407Z",
          "iopub.status.idle": "2024-08-06T13:24:18.62283Z",
          "shell.execute_reply": "2024-08-06T13:24:18.621575Z",
          "shell.execute_reply.started": "2024-08-06T13:24:18.55278Z"
        },
        "id": "2KLaHYaWAqtW",
        "trusted": true
      },
      "outputs": [],
      "source": [
        "for i in ds[5]:\n",
        "    print(i.shape)"
      ]
    },
    {
      "cell_type": "code",
      "execution_count": null,
      "metadata": {
        "execution": {
          "iopub.execute_input": "2024-08-06T13:24:19.832982Z",
          "iopub.status.busy": "2024-08-06T13:24:19.832558Z",
          "iopub.status.idle": "2024-08-06T13:24:19.850895Z",
          "shell.execute_reply": "2024-08-06T13:24:19.84933Z",
          "shell.execute_reply.started": "2024-08-06T13:24:19.832948Z"
        },
        "id": "SkL6JSNwAqtW",
        "trusted": true
      },
      "outputs": [],
      "source": [
        "train_ds,val_ds = random_split(ds,[0.8,0.2])"
      ]
    },
    {
      "cell_type": "code",
      "execution_count": null,
      "metadata": {
        "execution": {
          "iopub.execute_input": "2024-08-06T13:24:21.368369Z",
          "iopub.status.busy": "2024-08-06T13:24:21.367932Z",
          "iopub.status.idle": "2024-08-06T13:24:21.375156Z",
          "shell.execute_reply": "2024-08-06T13:24:21.373321Z",
          "shell.execute_reply.started": "2024-08-06T13:24:21.368333Z"
        },
        "id": "iEHYcj5DAqtW",
        "trusted": true
      },
      "outputs": [],
      "source": [
        "train_dl = DataLoader(train_ds,batch_size = 64,pin_memory = True)\n",
        "val_dl = DataLoader(val_ds,batch_size=64,pin_memory = True)"
      ]
    },
    {
      "cell_type": "code",
      "execution_count": null,
      "metadata": {
        "execution": {
          "iopub.execute_input": "2024-08-06T13:24:22.198128Z",
          "iopub.status.busy": "2024-08-06T13:24:22.197666Z",
          "iopub.status.idle": "2024-08-06T13:24:22.234319Z",
          "shell.execute_reply": "2024-08-06T13:24:22.232925Z",
          "shell.execute_reply.started": "2024-08-06T13:24:22.198091Z"
        },
        "id": "B5noKCSUAqtW",
        "trusted": true
      },
      "outputs": [],
      "source": [
        "for i,(xn,xd,yn,yd) in enumerate(train_dl):\n",
        "    print(xn.shape,xd.shape,yn.shape,yd.shape)\n",
        "    break"
      ]
    },
    {
      "cell_type": "markdown",
      "metadata": {},
      "source": [
        "# Model Defination"
      ]
    },
    {
      "cell_type": "code",
      "execution_count": null,
      "metadata": {
        "execution": {
          "iopub.execute_input": "2024-08-06T13:24:28.679243Z",
          "iopub.status.busy": "2024-08-06T13:24:28.678671Z",
          "iopub.status.idle": "2024-08-06T13:24:28.701963Z",
          "shell.execute_reply": "2024-08-06T13:24:28.700521Z",
          "shell.execute_reply.started": "2024-08-06T13:24:28.679203Z"
        },
        "id": "ETRwQchPAqtW",
        "trusted": true
      },
      "outputs": [],
      "source": [
        "class MusicModel(L.LightningModule):\n",
        "    def __init__(self, n_notes,n_durations,embed_size = 128,rnn_units = 512):\n",
        "        super(MusicModel, self).__init__()\n",
        "\n",
        "        self.rnn_units = rnn_units\n",
        "\n",
        "        self.ne = nn.Embedding(n_notes,embed_size)\n",
        "        self.de = nn.Embedding(n_durations,embed_size)\n",
        "\n",
        "        self.concat = lambda x1,x2: torch.cat([x1,x2],axis =-1)\n",
        "\n",
        "        self.lstm1 = nn.GRU(2*embed_size,self.rnn_units,batch_first = True)\n",
        "        self.drop1 = nn.Dropout(0.3)\n",
        "        self.lstm2 = nn.GRU(self.rnn_units,self.rnn_units,num_layers = 2,batch_first = True)\n",
        "        self.drop2 = nn.Dropout(0.3)\n",
        "        self.seq = nn.Sequential(\n",
        "            nn.Linear(self.rnn_units,self.rnn_units*8),\n",
        "            nn.ReLU(),\n",
        "            nn.Dropout(0.2),\n",
        "            nn.Linear(self.rnn_units*8,self.rnn_units*4),\n",
        "            nn.ReLU(),\n",
        "            nn.Linear(self.rnn_units*4,self.rnn_units),\n",
        "            nn.ReLU(),\n",
        "            nn.Dropout(0.2),\n",
        "        )\n",
        "        self.out1 = nn.Linear(self.rnn_units,n_notes)\n",
        "        self.out2 = nn.Linear(self.rnn_units,n_durations)\n",
        "\n",
        "        self.example_input_array = [torch.randint(0,10,(2,32))]*2\n",
        "        self.save_hyperparameters()\n",
        "\n",
        "\n",
        "    def forward(self,xn,xd):\n",
        "\n",
        "        xn = self.ne(xn)\n",
        "        xd = self.de(xd)\n",
        "\n",
        "        x = self.concat(xn,xd)\n",
        "\n",
        "        x,_ = self.lstm1(x)\n",
        "        x = self.drop1(x)\n",
        "        x,_ = self.lstm2(x)\n",
        "        x = self.drop2(x)\n",
        "\n",
        "        x = self.seq(x[:,-1])\n",
        "\n",
        "        return self.out1(x),self.out2(x)\n",
        "\n",
        "    def training_step(self,batch,batch_idx):\n",
        "        xn,xd,yn,yd = batch\n",
        "        yn_hat,yd_hat = self.forward(xn,xd)\n",
        "        lossn = F.cross_entropy(yn_hat,yn.float())\n",
        "        lossd = F.cross_entropy(yd_hat,yd.float())\n",
        "        loss = lossn + lossd\n",
        "        self.log(\"train_loss\",loss)\n",
        "        return loss\n",
        "\n",
        "\n",
        "    def validation_step(self,batch,batch_idx):\n",
        "        xn,xd,yn,yd = batch\n",
        "        yn_hat,yd_hat = self.forward(xn,xd)\n",
        "        lossn = F.cross_entropy(yn_hat,yn.float())\n",
        "        lossd = F.cross_entropy(yd_hat,yd.float())\n",
        "        loss = lossn + lossd\n",
        "        self.log(\"val_loss\",loss )\n",
        "        return loss\n",
        "\n",
        "    def on_train_epoch_end(self):\n",
        "        if self.current_epoch ==0:\n",
        "            array = [v.to(self.device) for v in self.example_input_array]\n",
        "            self.logger.experiment.add_graph(self,array)\n",
        "\n",
        "    def configure_optimizers(self):\n",
        "        opt = torch.optim.Adam(self.parameters(),1e-3)\n",
        "        sch = torch.optim.lr_scheduler.ReduceLROnPlateau(opt,verbose = True)\n",
        "        return {\n",
        "            \"optimizer\":opt,\n",
        "            \"lr_scheduler\":{\n",
        "                \"scheduler\":sch,\n",
        "                \"monitor\":\"val_loss\"\n",
        "            }\n",
        "        }"
      ]
    },
    {
      "cell_type": "markdown",
      "metadata": {},
      "source": [
        "# Training"
      ]
    },
    {
      "cell_type": "code",
      "execution_count": null,
      "metadata": {
        "execution": {
          "iopub.execute_input": "2024-08-06T13:24:30.044447Z",
          "iopub.status.busy": "2024-08-06T13:24:30.043898Z",
          "iopub.status.idle": "2024-08-06T13:24:30.109692Z",
          "shell.execute_reply": "2024-08-06T13:24:30.108423Z",
          "shell.execute_reply.started": "2024-08-06T13:24:30.044408Z"
        },
        "id": "0mxa1CxcAqtX",
        "trusted": true
      },
      "outputs": [],
      "source": [
        "model = MusicModel(n_notes,n_durations)"
      ]
    },
    {
      "cell_type": "code",
      "execution_count": null,
      "metadata": {
        "execution": {
          "iopub.execute_input": "2024-08-06T13:24:48.599437Z",
          "iopub.status.busy": "2024-08-06T13:24:48.598878Z",
          "iopub.status.idle": "2024-08-06T13:24:48.632436Z",
          "shell.execute_reply": "2024-08-06T13:24:48.631253Z",
          "shell.execute_reply.started": "2024-08-06T13:24:48.5994Z"
        },
        "id": "t6nbBw-CAqtX",
        "trusted": true
      },
      "outputs": [],
      "source": [
        "ModelSummary(model,max_depth=-1)"
      ]
    },
    {
      "cell_type": "code",
      "execution_count": null,
      "metadata": {
        "execution": {
          "iopub.execute_input": "2024-08-06T13:24:49.663953Z",
          "iopub.status.busy": "2024-08-06T13:24:49.663491Z",
          "iopub.status.idle": "2024-08-06T13:24:49.670426Z",
          "shell.execute_reply": "2024-08-06T13:24:49.669017Z",
          "shell.execute_reply.started": "2024-08-06T13:24:49.66391Z"
        },
        "id": "5MRDQvlXAqtX",
        "trusted": true
      },
      "outputs": [],
      "source": [
        "es = EarlyStopping(monitor = \"train_loss\",min_delta = 0.001,patience = 10,verbose = True)"
      ]
    },
    {
      "cell_type": "code",
      "execution_count": null,
      "metadata": {
        "execution": {
          "iopub.execute_input": "2024-08-06T13:24:50.937126Z",
          "iopub.status.busy": "2024-08-06T13:24:50.936673Z",
          "iopub.status.idle": "2024-08-06T13:24:51.377151Z",
          "shell.execute_reply": "2024-08-06T13:24:51.375829Z",
          "shell.execute_reply.started": "2024-08-06T13:24:50.937088Z"
        },
        "id": "gIsc4RMxAqtX",
        "trusted": true
      },
      "outputs": [],
      "source": [
        "trainer = L.Trainer(\n",
        "    max_epochs = 300,\n",
        "    max_time = timedelta(hours = 9),\n",
        "    default_root_dir = \"./MusicModel\",\n",
        "    callbacks = [es]\n",
        "    )"
      ]
    },
    {
      "cell_type": "code",
      "execution_count": null,
      "metadata": {
        "execution": {
          "iopub.execute_input": "2024-08-06T13:24:56.2981Z",
          "iopub.status.busy": "2024-08-06T13:24:56.297663Z",
          "iopub.status.idle": "2024-08-06T13:25:15.436917Z",
          "shell.execute_reply": "2024-08-06T13:25:15.435659Z",
          "shell.execute_reply.started": "2024-08-06T13:24:56.298051Z"
        },
        "id": "rPqpswDvAqtX",
        "trusted": true
      },
      "outputs": [],
      "source": [
        "trainer.fit(model,train_dl,val_dl)"
      ]
    },
    {
      "cell_type": "markdown",
      "metadata": {},
      "source": [
        "# Predictions"
      ]
    },
    {
      "cell_type": "code",
      "execution_count": null,
      "metadata": {
        "execution": {
          "iopub.execute_input": "2024-08-06T13:25:25.188616Z",
          "iopub.status.busy": "2024-08-06T13:25:25.188183Z",
          "iopub.status.idle": "2024-08-06T13:25:25.199761Z",
          "shell.execute_reply": "2024-08-06T13:25:25.198333Z",
          "shell.execute_reply.started": "2024-08-06T13:25:25.188582Z"
        },
        "id": "3BYNtfXLAqtX",
        "trusted": true
      },
      "outputs": [],
      "source": [
        "model = model.to(device)\n",
        "model.eval()"
      ]
    },
    {
      "cell_type": "code",
      "execution_count": null,
      "metadata": {
        "execution": {
          "iopub.execute_input": "2024-08-06T13:25:25.427834Z",
          "iopub.status.busy": "2024-08-06T13:25:25.427397Z",
          "iopub.status.idle": "2024-08-06T13:25:25.442401Z",
          "shell.execute_reply": "2024-08-06T13:25:25.440784Z",
          "shell.execute_reply.started": "2024-08-06T13:25:25.427799Z"
        },
        "id": "f6Tno7m1AqtY",
        "trusted": true
      },
      "outputs": [],
      "source": [
        "@torch.no_grad\n",
        "def generator(note_count = 100):\n",
        "\n",
        "    note_seed = np.array([note_to_int['START'] for _ in range(32)])\n",
        "    dur_seed = np.array([duration_to_int[0] for _ in range(32)])\n",
        "\n",
        "    notes_pred = []\n",
        "    dur_preds = []\n",
        "    for i in tqdm(range(note_count)):\n",
        "        note_seed = note_seed.reshape(1,32)\n",
        "        dur_seed = dur_seed.reshape(1,32)\n",
        "        pred = model(torch.tensor(note_seed,device = device),torch.tensor(dur_seed,device = device))\n",
        "\n",
        "        if i<note_count//5:\n",
        "            #probabilistic choice\n",
        "            notes_probs = F.softmax(pred[0],dim = 1)\n",
        "            dur_probs = F.softmax(pred[1],dim = 1)\n",
        "\n",
        "            note = torch.multinomial(notes_probs,num_samples = 1).item()\n",
        "            dur = torch.multinomial(dur_probs,num_samples = 1).item()\n",
        "        else:\n",
        "            #deterministic choice:\n",
        "            note = pred[0].argmax().item()\n",
        "            dur = pred[1].argmax().item()\n",
        "\n",
        "        notes_pred.append(int_to_note[note])\n",
        "        dur_preds.append(int_to_duration[dur])\n",
        "\n",
        "        note_seed = np.insert(note_seed[0],len(note_seed[0]),note)[1:]\n",
        "        dur_seed = np.insert(dur_seed[0],len(dur_seed[0]),dur)[1:]\n",
        "\n",
        "    return notes_pred,dur_preds"
      ]
    },
    {
      "cell_type": "code",
      "execution_count": null,
      "metadata": {
        "execution": {
          "iopub.execute_input": "2024-08-06T13:25:25.817977Z",
          "iopub.status.busy": "2024-08-06T13:25:25.817499Z",
          "iopub.status.idle": "2024-08-06T13:25:25.827666Z",
          "shell.execute_reply": "2024-08-06T13:25:25.826081Z",
          "shell.execute_reply.started": "2024-08-06T13:25:25.817938Z"
        },
        "id": "GnE9_zchAqtY",
        "trusted": true
      },
      "outputs": [],
      "source": [
        "def convert(out_notes,out_durs):\n",
        "    s = stream.Stream()\n",
        "    # Iterate over the notes and durations\n",
        "    for note_str, dur in zip(out_notes, out_durs):\n",
        "        if dur == 0 or note_str == 'START':  # If duration is zero, it's a rest\n",
        "            m21_note = note.Rest()\n",
        "        elif '.' in note_str:  # It's a chord\n",
        "            chord_notes = [note.Note(n) for n in note_str.split('.')]\n",
        "            m21_note = chord.Chord(chord_notes)\n",
        "        else:  # It's a single note\n",
        "            m21_note = note.Note(note_str)\n",
        "\n",
        "        m21_note.duration = duration.Duration(dur)\n",
        "        s.append(m21_note)\n",
        "\n",
        "    return s"
      ]
    },
    {
      "cell_type": "code",
      "execution_count": null,
      "metadata": {
        "execution": {
          "iopub.execute_input": "2024-08-06T13:25:27.162671Z",
          "iopub.status.busy": "2024-08-06T13:25:27.162196Z"
        },
        "id": "ZdhORzSOAqtY",
        "trusted": true
      },
      "outputs": [],
      "source": [
        "fs = FluidSynth()\n",
        "for i in range(10):\n",
        "    mel = convert(*generator(100))\n",
        "    try:\n",
        "        mel.show()\n",
        "    except:\n",
        "        print(\"Melody contains rest notes. so cannt call mel.show()\")\n",
        "    mel.write(\"midi\",f\"test-{i}.mid\")\n",
        "    fs.midi_to_audio(f\"test-{i}.mid\",f\"test-{i}.wav\")\n",
        "    display(Audio(f\"test-{i}.wav\"))"
      ]
    },
    {
      "cell_type": "code",
      "execution_count": null,
      "metadata": {
        "id": "z9JZsgrhAqtY"
      },
      "outputs": [],
      "source": []
    }
  ],
  "metadata": {
    "colab": {
      "name": "Music Generation Pytorch Lightning V2",
      "provenance": []
    },
    "kaggle": {
      "accelerator": "gpu",
      "dataSources": [
        {
          "datasetId": 196294,
          "sourceId": 434491,
          "sourceType": "datasetVersion"
        },
        {
          "sourceId": 191397009,
          "sourceType": "kernelVersion"
        }
      ],
      "dockerImageVersionId": 30747,
      "isGpuEnabled": true,
      "isInternetEnabled": true,
      "language": "python",
      "sourceType": "notebook"
    },
    "kernelspec": {
      "display_name": "Python 3",
      "language": "python",
      "name": "python3"
    },
    "language_info": {
      "codemirror_mode": {
        "name": "ipython",
        "version": 3
      },
      "file_extension": ".py",
      "mimetype": "text/x-python",
      "name": "python",
      "nbconvert_exporter": "python",
      "pygments_lexer": "ipython3",
      "version": "3.10.13"
    }
  },
  "nbformat": 4,
  "nbformat_minor": 0
}
